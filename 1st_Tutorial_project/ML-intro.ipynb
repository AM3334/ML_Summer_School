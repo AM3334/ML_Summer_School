import numpy as np
import pandas as pd # just for file loading
import matplotlib.pyplot as plt


# Load the data
file_path = 'path/to/data.h5'
df = pd.read_hdf('data.h5')

# Look @ the data
df

# Put this data in numpy arrays
x = df['x'].values
y = df['y'].values

# Plot the data
plt.scatter(x,y,marker='x',color='crimson',label='data')

plt.xlabel('$x$',fontsize=20)
plt.ylabel('$y$',fontsize=20)
plt.legend(fontsize=16)


# Initialize theta to some random values
# theta = (theta0, theta_1, theta_2, theta_3)

theta = np.random.randn(4,)

def get_prediction(x, theta):
    '''
    Evaluate a linear model that is a 3rd order polynomial

    fx = theta[0] + theta[1] * x + theta[2] * x**2 + theta[3] * x**3 

    Input:
    - x: shape (n,)
    - theta: shape (4,)

    Output:
    - fx: shape (n,)
    '''
    
    assert theta.shape[0] == 4 # sanity check for 3rd order polynomial
    
    # The polynomial
    fx = theta[0] + theta[1] * x + theta[2] * x**2 + theta[3] * x**3
    
    return fx

# Example:
x = np.array([1, 2, 3, 4, 5]) 
predictions = get_prediction(x, theta)
print(predictions)

import numpy as np

def get_loss(y_pred, y_true):
    '''
    Calculate the Mean Squared Error (MSE) loss over N examples

    Inputs:
    - y_pred: (n,) array
    - y: (n,) array

    Outputs:
    - loss: scalar
    '''

    assert len(y_pred) == len(y) # sanity check the inputs make sense

    # Calculate the Mean Squared Error (MSE)
    loss = np.mean((y_pred - y) ** 2)
    
    return loss

# Example usage:
y = np.array([2, 3, 5, 7, 11])  # True values
y_pred = np.array([2.1, 3.9, 5.0, 7.2, 11.1])  # Predicted values

loss = get_loss(y_pred, y)
print(f"Mean Squared Error: {loss}")

y = np.array([2, 3, 5, 7, 11])  # True values (for example purposes)

# Generate predictions
y_pred = get_prediction(x, theta)

# Calculate the loss
loss = get_loss(y_pred, y)
print(f"Mean Squared Error: {loss}")

y_pred

# data
plt.scatter(x,y,marker='x',color='crimson',label='data')

# Show the "initial guess" for the prediction
xx = np.linspace(-3,3)
f_theta = get_predicion(xx,theta)
plt.plot(xx,f_theta, label='pred' )

# These lines are the h_theta(x) for the data samples too
# y_pred = get_predicion(x,theta)
# plt.scatter(x,y_pred,marker='o',color='navy',label=r'$h_\theta(x)$')

ax = plt.gca()
plt.text(.5,.9,f'loss = {loss:2.2f}',fontsize=16,
         ha='center',va='top',transform=ax.transAxes)

plt.xlabel('$x$',fontsize=20)
plt.ylabel('$y$',fontsize=20)

plt.legend(fontsize=16)



import numpy as np

def get_grad(x, y, theta):
    '''
    Code up the gradient of the loss with respect to theta.

    Input:
    - x: array (n,)
    - y: array (n,)
    - theta: (d,)

    Output:
    - dtheta: (d,)
    '''

    assert x.shape[0] == y.shape[0]
    
    n = x.shape[0]
    
    X = np.column_stack((np.ones(n), x, x**2, x**3))
    
    y_pred = X.dot(theta)
    
    dtheta = (2/n) * X.T.dot(y_pred - y)
    
    return dtheta

# Example:
x = np.array([1, 2, 3, 4, 5])  
y = np.array([2, 3, 5, 7, 11])  
theta = np.random.randn(4)  

gradient = get_grad(x, y, theta)
print(f"Gradient: {gradient}")



alpha=.01

losses = []

for i in range(11):

    # Calculate y_pred
    y_pred = get_predicion(x,theta)
    
    # Get the loss
    loss = get_loss(y_pred,y)

    # Calculate the gradient
    dtheta = get_grad(x,y,theta)
    
    # Update the parameters
    theta -= alpha * dtheta
    
    # Save the values
    losses.append(loss)

plt.plot(losses)
plt.xlabel('iterations',fontsize=16)
plt.ylabel('Loss',fontsize=16)

losses[-10:]

# Overlay the "initial guess" of the data prediction

y_pred = get_predicion(x,theta)

plt.scatter(x,y,marker='x',color='crimson',label='data')

# plt.scatter(x,y_pred,marker='o',color='navy',label=r'$h_\theta(x)$')

ax = plt.gca()
plt.text(.5,.9,f'loss = {loss:2.2f}',fontsize=16,
         ha='center',va='top',transform=ax.transAxes)

plt.xlabel('$x$',fontsize=20)
plt.ylabel('$y$',fontsize=20)

# Get the continuous version of the prediction
f_theta = get_predicion(xx,theta)
plt.plot(xx,f_theta, label='pred' )

plt.legend(fontsize=16)

theta