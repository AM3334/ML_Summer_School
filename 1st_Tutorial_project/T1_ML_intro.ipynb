{
  "nbformat": 4,
  "nbformat_minor": 0,
  "metadata": {
    "colab": {
      "provenance": []
    },
    "kernelspec": {
      "name": "python3",
      "display_name": "Python 3"
    },
    "language_info": {
      "name": "python"
    }
  },
  "cells": [
    {
      "cell_type": "code",
      "execution_count": null,
      "metadata": {
        "id": "-6YB_LNSnWcH"
      },
      "outputs": [],
      "source": [
        "import numpy as np\n",
        "import pandas as pd # just for file loading\n",
        "import matplotlib.pyplot as plt"
      ]
    },
    {
      "cell_type": "code",
      "source": [
        "# Load the data\n",
        "df = pd.read_hdf('data.h5')"
      ],
      "metadata": {
        "id": "-zHxthZunefR"
      },
      "execution_count": null,
      "outputs": []
    },
    {
      "cell_type": "code",
      "source": [
        "# Look @ the data\n",
        "df"
      ],
      "metadata": {
        "colab": {
          "base_uri": "https://localhost:8080/",
          "height": 1000
        },
        "id": "7NZa6FkengXB",
        "outputId": "07e687ca-37ac-462d-f414-1136e2902435"
      },
      "execution_count": null,
      "outputs": [
        {
          "output_type": "execute_result",
          "data": {
            "text/plain": [
              "           x          y\n",
              "0   1.639249   4.687617\n",
              "1  -1.752784   5.161865\n",
              "2   2.400429   4.112924\n",
              "3   0.061555  -0.858876\n",
              "4  -1.373990   1.321982\n",
              "5  -0.121045  -1.567291\n",
              "6  -1.363448   1.157421\n",
              "7  -2.206750  12.833504\n",
              "8   2.938530  -0.308712\n",
              "9   0.884758   2.554317\n",
              "10  2.333512   3.941729\n",
              "11 -0.816407  -1.683377\n",
              "12 -0.630692  -1.819853\n",
              "13  1.355375   4.098339\n",
              "14  1.306998   4.295272\n",
              "15 -1.080464  -0.747507\n",
              "16  0.477931   0.208251\n",
              "17  0.608767   1.171089\n",
              "18  0.776258   2.112128\n",
              "19  0.673836   1.431679\n",
              "20  2.692107   2.036467\n",
              "21 -1.781160   5.944674\n",
              "22 -0.911157  -1.092490\n",
              "23 -0.611566  -1.478218\n",
              "24 -0.652086  -1.993638\n",
              "25  1.434252   4.591170\n",
              "26 -2.105741  10.832714\n",
              "27 -2.985714  34.509119\n",
              "28  2.288854   4.455717\n",
              "29 -2.710820  25.332664\n",
              "30 -2.886177  30.671860\n",
              "31 -2.414404  17.682784"
            ],
            "text/html": [
              "\n",
              "  <div id=\"df-032425b1-24a1-416b-934f-9d6df1a8d788\" class=\"colab-df-container\">\n",
              "    <div>\n",
              "<style scoped>\n",
              "    .dataframe tbody tr th:only-of-type {\n",
              "        vertical-align: middle;\n",
              "    }\n",
              "\n",
              "    .dataframe tbody tr th {\n",
              "        vertical-align: top;\n",
              "    }\n",
              "\n",
              "    .dataframe thead th {\n",
              "        text-align: right;\n",
              "    }\n",
              "</style>\n",
              "<table border=\"1\" class=\"dataframe\">\n",
              "  <thead>\n",
              "    <tr style=\"text-align: right;\">\n",
              "      <th></th>\n",
              "      <th>x</th>\n",
              "      <th>y</th>\n",
              "    </tr>\n",
              "  </thead>\n",
              "  <tbody>\n",
              "    <tr>\n",
              "      <th>0</th>\n",
              "      <td>1.639249</td>\n",
              "      <td>4.687617</td>\n",
              "    </tr>\n",
              "    <tr>\n",
              "      <th>1</th>\n",
              "      <td>-1.752784</td>\n",
              "      <td>5.161865</td>\n",
              "    </tr>\n",
              "    <tr>\n",
              "      <th>2</th>\n",
              "      <td>2.400429</td>\n",
              "      <td>4.112924</td>\n",
              "    </tr>\n",
              "    <tr>\n",
              "      <th>3</th>\n",
              "      <td>0.061555</td>\n",
              "      <td>-0.858876</td>\n",
              "    </tr>\n",
              "    <tr>\n",
              "      <th>4</th>\n",
              "      <td>-1.373990</td>\n",
              "      <td>1.321982</td>\n",
              "    </tr>\n",
              "    <tr>\n",
              "      <th>5</th>\n",
              "      <td>-0.121045</td>\n",
              "      <td>-1.567291</td>\n",
              "    </tr>\n",
              "    <tr>\n",
              "      <th>6</th>\n",
              "      <td>-1.363448</td>\n",
              "      <td>1.157421</td>\n",
              "    </tr>\n",
              "    <tr>\n",
              "      <th>7</th>\n",
              "      <td>-2.206750</td>\n",
              "      <td>12.833504</td>\n",
              "    </tr>\n",
              "    <tr>\n",
              "      <th>8</th>\n",
              "      <td>2.938530</td>\n",
              "      <td>-0.308712</td>\n",
              "    </tr>\n",
              "    <tr>\n",
              "      <th>9</th>\n",
              "      <td>0.884758</td>\n",
              "      <td>2.554317</td>\n",
              "    </tr>\n",
              "    <tr>\n",
              "      <th>10</th>\n",
              "      <td>2.333512</td>\n",
              "      <td>3.941729</td>\n",
              "    </tr>\n",
              "    <tr>\n",
              "      <th>11</th>\n",
              "      <td>-0.816407</td>\n",
              "      <td>-1.683377</td>\n",
              "    </tr>\n",
              "    <tr>\n",
              "      <th>12</th>\n",
              "      <td>-0.630692</td>\n",
              "      <td>-1.819853</td>\n",
              "    </tr>\n",
              "    <tr>\n",
              "      <th>13</th>\n",
              "      <td>1.355375</td>\n",
              "      <td>4.098339</td>\n",
              "    </tr>\n",
              "    <tr>\n",
              "      <th>14</th>\n",
              "      <td>1.306998</td>\n",
              "      <td>4.295272</td>\n",
              "    </tr>\n",
              "    <tr>\n",
              "      <th>15</th>\n",
              "      <td>-1.080464</td>\n",
              "      <td>-0.747507</td>\n",
              "    </tr>\n",
              "    <tr>\n",
              "      <th>16</th>\n",
              "      <td>0.477931</td>\n",
              "      <td>0.208251</td>\n",
              "    </tr>\n",
              "    <tr>\n",
              "      <th>17</th>\n",
              "      <td>0.608767</td>\n",
              "      <td>1.171089</td>\n",
              "    </tr>\n",
              "    <tr>\n",
              "      <th>18</th>\n",
              "      <td>0.776258</td>\n",
              "      <td>2.112128</td>\n",
              "    </tr>\n",
              "    <tr>\n",
              "      <th>19</th>\n",
              "      <td>0.673836</td>\n",
              "      <td>1.431679</td>\n",
              "    </tr>\n",
              "    <tr>\n",
              "      <th>20</th>\n",
              "      <td>2.692107</td>\n",
              "      <td>2.036467</td>\n",
              "    </tr>\n",
              "    <tr>\n",
              "      <th>21</th>\n",
              "      <td>-1.781160</td>\n",
              "      <td>5.944674</td>\n",
              "    </tr>\n",
              "    <tr>\n",
              "      <th>22</th>\n",
              "      <td>-0.911157</td>\n",
              "      <td>-1.092490</td>\n",
              "    </tr>\n",
              "    <tr>\n",
              "      <th>23</th>\n",
              "      <td>-0.611566</td>\n",
              "      <td>-1.478218</td>\n",
              "    </tr>\n",
              "    <tr>\n",
              "      <th>24</th>\n",
              "      <td>-0.652086</td>\n",
              "      <td>-1.993638</td>\n",
              "    </tr>\n",
              "    <tr>\n",
              "      <th>25</th>\n",
              "      <td>1.434252</td>\n",
              "      <td>4.591170</td>\n",
              "    </tr>\n",
              "    <tr>\n",
              "      <th>26</th>\n",
              "      <td>-2.105741</td>\n",
              "      <td>10.832714</td>\n",
              "    </tr>\n",
              "    <tr>\n",
              "      <th>27</th>\n",
              "      <td>-2.985714</td>\n",
              "      <td>34.509119</td>\n",
              "    </tr>\n",
              "    <tr>\n",
              "      <th>28</th>\n",
              "      <td>2.288854</td>\n",
              "      <td>4.455717</td>\n",
              "    </tr>\n",
              "    <tr>\n",
              "      <th>29</th>\n",
              "      <td>-2.710820</td>\n",
              "      <td>25.332664</td>\n",
              "    </tr>\n",
              "    <tr>\n",
              "      <th>30</th>\n",
              "      <td>-2.886177</td>\n",
              "      <td>30.671860</td>\n",
              "    </tr>\n",
              "    <tr>\n",
              "      <th>31</th>\n",
              "      <td>-2.414404</td>\n",
              "      <td>17.682784</td>\n",
              "    </tr>\n",
              "  </tbody>\n",
              "</table>\n",
              "</div>\n",
              "    <div class=\"colab-df-buttons\">\n",
              "\n",
              "  <div class=\"colab-df-container\">\n",
              "    <button class=\"colab-df-convert\" onclick=\"convertToInteractive('df-032425b1-24a1-416b-934f-9d6df1a8d788')\"\n",
              "            title=\"Convert this dataframe to an interactive table.\"\n",
              "            style=\"display:none;\">\n",
              "\n",
              "  <svg xmlns=\"http://www.w3.org/2000/svg\" height=\"24px\" viewBox=\"0 -960 960 960\">\n",
              "    <path d=\"M120-120v-720h720v720H120Zm60-500h600v-160H180v160Zm220 220h160v-160H400v160Zm0 220h160v-160H400v160ZM180-400h160v-160H180v160Zm440 0h160v-160H620v160ZM180-180h160v-160H180v160Zm440 0h160v-160H620v160Z\"/>\n",
              "  </svg>\n",
              "    </button>\n",
              "\n",
              "  <style>\n",
              "    .colab-df-container {\n",
              "      display:flex;\n",
              "      gap: 12px;\n",
              "    }\n",
              "\n",
              "    .colab-df-convert {\n",
              "      background-color: #E8F0FE;\n",
              "      border: none;\n",
              "      border-radius: 50%;\n",
              "      cursor: pointer;\n",
              "      display: none;\n",
              "      fill: #1967D2;\n",
              "      height: 32px;\n",
              "      padding: 0 0 0 0;\n",
              "      width: 32px;\n",
              "    }\n",
              "\n",
              "    .colab-df-convert:hover {\n",
              "      background-color: #E2EBFA;\n",
              "      box-shadow: 0px 1px 2px rgba(60, 64, 67, 0.3), 0px 1px 3px 1px rgba(60, 64, 67, 0.15);\n",
              "      fill: #174EA6;\n",
              "    }\n",
              "\n",
              "    .colab-df-buttons div {\n",
              "      margin-bottom: 4px;\n",
              "    }\n",
              "\n",
              "    [theme=dark] .colab-df-convert {\n",
              "      background-color: #3B4455;\n",
              "      fill: #D2E3FC;\n",
              "    }\n",
              "\n",
              "    [theme=dark] .colab-df-convert:hover {\n",
              "      background-color: #434B5C;\n",
              "      box-shadow: 0px 1px 3px 1px rgba(0, 0, 0, 0.15);\n",
              "      filter: drop-shadow(0px 1px 2px rgba(0, 0, 0, 0.3));\n",
              "      fill: #FFFFFF;\n",
              "    }\n",
              "  </style>\n",
              "\n",
              "    <script>\n",
              "      const buttonEl =\n",
              "        document.querySelector('#df-032425b1-24a1-416b-934f-9d6df1a8d788 button.colab-df-convert');\n",
              "      buttonEl.style.display =\n",
              "        google.colab.kernel.accessAllowed ? 'block' : 'none';\n",
              "\n",
              "      async function convertToInteractive(key) {\n",
              "        const element = document.querySelector('#df-032425b1-24a1-416b-934f-9d6df1a8d788');\n",
              "        const dataTable =\n",
              "          await google.colab.kernel.invokeFunction('convertToInteractive',\n",
              "                                                    [key], {});\n",
              "        if (!dataTable) return;\n",
              "\n",
              "        const docLinkHtml = 'Like what you see? Visit the ' +\n",
              "          '<a target=\"_blank\" href=https://colab.research.google.com/notebooks/data_table.ipynb>data table notebook</a>'\n",
              "          + ' to learn more about interactive tables.';\n",
              "        element.innerHTML = '';\n",
              "        dataTable['output_type'] = 'display_data';\n",
              "        await google.colab.output.renderOutput(dataTable, element);\n",
              "        const docLink = document.createElement('div');\n",
              "        docLink.innerHTML = docLinkHtml;\n",
              "        element.appendChild(docLink);\n",
              "      }\n",
              "    </script>\n",
              "  </div>\n",
              "\n",
              "\n",
              "<div id=\"df-da0e9d47-3f4e-44a6-bee0-175115c06b3d\">\n",
              "  <button class=\"colab-df-quickchart\" onclick=\"quickchart('df-da0e9d47-3f4e-44a6-bee0-175115c06b3d')\"\n",
              "            title=\"Suggest charts\"\n",
              "            style=\"display:none;\">\n",
              "\n",
              "<svg xmlns=\"http://www.w3.org/2000/svg\" height=\"24px\"viewBox=\"0 0 24 24\"\n",
              "     width=\"24px\">\n",
              "    <g>\n",
              "        <path d=\"M19 3H5c-1.1 0-2 .9-2 2v14c0 1.1.9 2 2 2h14c1.1 0 2-.9 2-2V5c0-1.1-.9-2-2-2zM9 17H7v-7h2v7zm4 0h-2V7h2v10zm4 0h-2v-4h2v4z\"/>\n",
              "    </g>\n",
              "</svg>\n",
              "  </button>\n",
              "\n",
              "<style>\n",
              "  .colab-df-quickchart {\n",
              "      --bg-color: #E8F0FE;\n",
              "      --fill-color: #1967D2;\n",
              "      --hover-bg-color: #E2EBFA;\n",
              "      --hover-fill-color: #174EA6;\n",
              "      --disabled-fill-color: #AAA;\n",
              "      --disabled-bg-color: #DDD;\n",
              "  }\n",
              "\n",
              "  [theme=dark] .colab-df-quickchart {\n",
              "      --bg-color: #3B4455;\n",
              "      --fill-color: #D2E3FC;\n",
              "      --hover-bg-color: #434B5C;\n",
              "      --hover-fill-color: #FFFFFF;\n",
              "      --disabled-bg-color: #3B4455;\n",
              "      --disabled-fill-color: #666;\n",
              "  }\n",
              "\n",
              "  .colab-df-quickchart {\n",
              "    background-color: var(--bg-color);\n",
              "    border: none;\n",
              "    border-radius: 50%;\n",
              "    cursor: pointer;\n",
              "    display: none;\n",
              "    fill: var(--fill-color);\n",
              "    height: 32px;\n",
              "    padding: 0;\n",
              "    width: 32px;\n",
              "  }\n",
              "\n",
              "  .colab-df-quickchart:hover {\n",
              "    background-color: var(--hover-bg-color);\n",
              "    box-shadow: 0 1px 2px rgba(60, 64, 67, 0.3), 0 1px 3px 1px rgba(60, 64, 67, 0.15);\n",
              "    fill: var(--button-hover-fill-color);\n",
              "  }\n",
              "\n",
              "  .colab-df-quickchart-complete:disabled,\n",
              "  .colab-df-quickchart-complete:disabled:hover {\n",
              "    background-color: var(--disabled-bg-color);\n",
              "    fill: var(--disabled-fill-color);\n",
              "    box-shadow: none;\n",
              "  }\n",
              "\n",
              "  .colab-df-spinner {\n",
              "    border: 2px solid var(--fill-color);\n",
              "    border-color: transparent;\n",
              "    border-bottom-color: var(--fill-color);\n",
              "    animation:\n",
              "      spin 1s steps(1) infinite;\n",
              "  }\n",
              "\n",
              "  @keyframes spin {\n",
              "    0% {\n",
              "      border-color: transparent;\n",
              "      border-bottom-color: var(--fill-color);\n",
              "      border-left-color: var(--fill-color);\n",
              "    }\n",
              "    20% {\n",
              "      border-color: transparent;\n",
              "      border-left-color: var(--fill-color);\n",
              "      border-top-color: var(--fill-color);\n",
              "    }\n",
              "    30% {\n",
              "      border-color: transparent;\n",
              "      border-left-color: var(--fill-color);\n",
              "      border-top-color: var(--fill-color);\n",
              "      border-right-color: var(--fill-color);\n",
              "    }\n",
              "    40% {\n",
              "      border-color: transparent;\n",
              "      border-right-color: var(--fill-color);\n",
              "      border-top-color: var(--fill-color);\n",
              "    }\n",
              "    60% {\n",
              "      border-color: transparent;\n",
              "      border-right-color: var(--fill-color);\n",
              "    }\n",
              "    80% {\n",
              "      border-color: transparent;\n",
              "      border-right-color: var(--fill-color);\n",
              "      border-bottom-color: var(--fill-color);\n",
              "    }\n",
              "    90% {\n",
              "      border-color: transparent;\n",
              "      border-bottom-color: var(--fill-color);\n",
              "    }\n",
              "  }\n",
              "</style>\n",
              "\n",
              "  <script>\n",
              "    async function quickchart(key) {\n",
              "      const quickchartButtonEl =\n",
              "        document.querySelector('#' + key + ' button');\n",
              "      quickchartButtonEl.disabled = true;  // To prevent multiple clicks.\n",
              "      quickchartButtonEl.classList.add('colab-df-spinner');\n",
              "      try {\n",
              "        const charts = await google.colab.kernel.invokeFunction(\n",
              "            'suggestCharts', [key], {});\n",
              "      } catch (error) {\n",
              "        console.error('Error during call to suggestCharts:', error);\n",
              "      }\n",
              "      quickchartButtonEl.classList.remove('colab-df-spinner');\n",
              "      quickchartButtonEl.classList.add('colab-df-quickchart-complete');\n",
              "    }\n",
              "    (() => {\n",
              "      let quickchartButtonEl =\n",
              "        document.querySelector('#df-da0e9d47-3f4e-44a6-bee0-175115c06b3d button');\n",
              "      quickchartButtonEl.style.display =\n",
              "        google.colab.kernel.accessAllowed ? 'block' : 'none';\n",
              "    })();\n",
              "  </script>\n",
              "</div>\n",
              "\n",
              "  <div id=\"id_bac997b0-db62-48f3-b20b-b48d11937cf1\">\n",
              "    <style>\n",
              "      .colab-df-generate {\n",
              "        background-color: #E8F0FE;\n",
              "        border: none;\n",
              "        border-radius: 50%;\n",
              "        cursor: pointer;\n",
              "        display: none;\n",
              "        fill: #1967D2;\n",
              "        height: 32px;\n",
              "        padding: 0 0 0 0;\n",
              "        width: 32px;\n",
              "      }\n",
              "\n",
              "      .colab-df-generate:hover {\n",
              "        background-color: #E2EBFA;\n",
              "        box-shadow: 0px 1px 2px rgba(60, 64, 67, 0.3), 0px 1px 3px 1px rgba(60, 64, 67, 0.15);\n",
              "        fill: #174EA6;\n",
              "      }\n",
              "\n",
              "      [theme=dark] .colab-df-generate {\n",
              "        background-color: #3B4455;\n",
              "        fill: #D2E3FC;\n",
              "      }\n",
              "\n",
              "      [theme=dark] .colab-df-generate:hover {\n",
              "        background-color: #434B5C;\n",
              "        box-shadow: 0px 1px 3px 1px rgba(0, 0, 0, 0.15);\n",
              "        filter: drop-shadow(0px 1px 2px rgba(0, 0, 0, 0.3));\n",
              "        fill: #FFFFFF;\n",
              "      }\n",
              "    </style>\n",
              "    <button class=\"colab-df-generate\" onclick=\"generateWithVariable('df')\"\n",
              "            title=\"Generate code using this dataframe.\"\n",
              "            style=\"display:none;\">\n",
              "\n",
              "  <svg xmlns=\"http://www.w3.org/2000/svg\" height=\"24px\"viewBox=\"0 0 24 24\"\n",
              "       width=\"24px\">\n",
              "    <path d=\"M7,19H8.4L18.45,9,17,7.55,7,17.6ZM5,21V16.75L18.45,3.32a2,2,0,0,1,2.83,0l1.4,1.43a1.91,1.91,0,0,1,.58,1.4,1.91,1.91,0,0,1-.58,1.4L9.25,21ZM18.45,9,17,7.55Zm-12,3A5.31,5.31,0,0,0,4.9,8.1,5.31,5.31,0,0,0,1,6.5,5.31,5.31,0,0,0,4.9,4.9,5.31,5.31,0,0,0,6.5,1,5.31,5.31,0,0,0,8.1,4.9,5.31,5.31,0,0,0,12,6.5,5.46,5.46,0,0,0,6.5,12Z\"/>\n",
              "  </svg>\n",
              "    </button>\n",
              "    <script>\n",
              "      (() => {\n",
              "      const buttonEl =\n",
              "        document.querySelector('#id_bac997b0-db62-48f3-b20b-b48d11937cf1 button.colab-df-generate');\n",
              "      buttonEl.style.display =\n",
              "        google.colab.kernel.accessAllowed ? 'block' : 'none';\n",
              "\n",
              "      buttonEl.onclick = () => {\n",
              "        google.colab.notebook.generateWithVariable('df');\n",
              "      }\n",
              "      })();\n",
              "    </script>\n",
              "  </div>\n",
              "\n",
              "    </div>\n",
              "  </div>\n"
            ],
            "application/vnd.google.colaboratory.intrinsic+json": {
              "type": "dataframe",
              "variable_name": "df",
              "summary": "{\n  \"name\": \"df\",\n  \"rows\": 32,\n  \"fields\": [\n    {\n      \"column\": \"x\",\n      \"properties\": {\n        \"dtype\": \"number\",\n        \"std\": 1.759876953536572,\n        \"min\": -2.985714369147382,\n        \"max\": 2.9385298397251294,\n        \"num_unique_values\": 32,\n        \"samples\": [\n          -2.7108197950266435,\n          -1.0804640972197541,\n          -0.6520863108669184\n        ],\n        \"semantic_type\": \"\",\n        \"description\": \"\"\n      }\n    },\n    {\n      \"column\": \"y\",\n      \"properties\": {\n        \"dtype\": \"number\",\n        \"std\": 9.259702862892535,\n        \"min\": -1.9936383113961935,\n        \"max\": 34.50911885249348,\n        \"num_unique_values\": 32,\n        \"samples\": [\n          25.33266358379422,\n          -0.747506769678303,\n          -1.9936383113961935\n        ],\n        \"semantic_type\": \"\",\n        \"description\": \"\"\n      }\n    }\n  ]\n}"
            }
          },
          "metadata": {},
          "execution_count": 88
        }
      ]
    },
    {
      "cell_type": "code",
      "source": [
        "# Put this data in numpy arrays\n",
        "x = df['x'].values\n",
        "y = df['y'].values"
      ],
      "metadata": {
        "id": "d2D4Eit9njX3"
      },
      "execution_count": null,
      "outputs": []
    },
    {
      "cell_type": "code",
      "source": [
        "# Check the sizes of x and y\n",
        "print(f\"Size of x: {x.size}\")\n",
        "print(f\"Size of y: {y.size}\")"
      ],
      "metadata": {
        "colab": {
          "base_uri": "https://localhost:8080/"
        },
        "id": "DY0Ow6gusNM8",
        "outputId": "2fe6fcdb-ca1e-4cf5-97ef-fa105fa2d985"
      },
      "execution_count": null,
      "outputs": [
        {
          "output_type": "stream",
          "name": "stdout",
          "text": [
            "Size of x: 32\n",
            "Size of y: 32\n"
          ]
        }
      ]
    },
    {
      "cell_type": "code",
      "source": [
        "# Plot the data\n",
        "plt.scatter(x,y,marker='x',color='crimson',label='data')\n",
        "\n",
        "plt.xlabel('$x$',fontsize=20)\n",
        "plt.ylabel('$y$',fontsize=20)\n",
        "plt.legend(fontsize=16)"
      ],
      "metadata": {
        "colab": {
          "base_uri": "https://localhost:8080/",
          "height": 480
        },
        "id": "pPhQRrFCnmB9",
        "outputId": "6f5da7e0-7dcc-4618-e07c-a6329f829c74"
      },
      "execution_count": null,
      "outputs": [
        {
          "output_type": "execute_result",
          "data": {
            "text/plain": [
              "<matplotlib.legend.Legend at 0x7cd2ae8ea9b0>"
            ]
          },
          "metadata": {},
          "execution_count": 123
        },
        {
          "output_type": "display_data",
          "data": {
            "text/plain": [
              "<Figure size 640x480 with 1 Axes>"
            ],
            "image/png": "[encoded data removed]"
          },
          "metadata": {}
        }
      ]
    },
    {
      "cell_type": "markdown",
      "source": [
        "Step 1: Code up a linear model for a  3rd  degree polynomial."
      ],
      "metadata": {
        "id": "qrrpP67MpMrl"
      }
    },
    {
      "cell_type": "code",
      "source": [
        "# Initialize theta to some random values\n",
        "# theta = (theta0, theta_1, theta_2, theta_3)\n",
        "\n",
        "theta = np.random.randn(4,)"
      ],
      "metadata": {
        "id": "pircq6NjnmnU"
      },
      "execution_count": null,
      "outputs": []
    },
    {
      "cell_type": "code",
      "source": [
        "def get_prediction(x, theta):\n",
        "    '''\n",
        "    Evaluate a linear model that is a 3rd order polynomial\n",
        "\n",
        "    fx = theta[0] + theta[1] * x + theta[2] * x^2 + theta[3] * x^3\n",
        "\n",
        "    Input:\n",
        "    - x: shape (n,)\n",
        "    - theta: shape (4,)\n",
        "\n",
        "    Output:\n",
        "    - fx: shape (n,)\n",
        "    '''\n",
        "\n",
        "    assert theta.shape[0] == 4 # sanity check for 3rd order polynomial\n",
        "\n",
        "    # Compute the polynomial\n",
        "    fx = theta[0] + theta[1] * x + theta[2] * x**2 + theta[3] * x**3\n",
        "\n",
        "    return fx"
      ],
      "metadata": {
        "id": "CyieNITtnp-T"
      },
      "execution_count": null,
      "outputs": []
    },
    {
      "cell_type": "markdown",
      "source": [
        "Step 2a) Calculate the loss"
      ],
      "metadata": {
        "id": "fDoz5L0ypErV"
      }
    },
    {
      "cell_type": "code",
      "source": [
        "def get_loss(y_pred, y_true):\n",
        "    '''\n",
        "    Calculate the Mean Squared Error (MSE) loss over N examples\n",
        "\n",
        "    Inputs:\n",
        "    - y_pred: (n,) array\n",
        "    - y_true: (n,) array\n",
        "\n",
        "    Outputs:\n",
        "    - loss: scalar\n",
        "    '''\n",
        "\n",
        "    assert len(y_pred) == len(y_true) # sanity check the inputs make sense\n",
        "\n",
        "    # Calculate the Mean Squared Error (MSE)\n",
        "    loss = np.mean((y_pred - y_true) ** 2)\n",
        "\n",
        "    return loss\n"
      ],
      "metadata": {
        "id": "dlr76Bx5pBnX"
      },
      "execution_count": null,
      "outputs": []
    },
    {
      "cell_type": "code",
      "source": [
        "# Example usage:\n",
        "y_true = np.array([1, 2, 3, 4, 5])  # True values\n",
        "y_pred = np.array([1.1, 1.9, 3.0, 4.2, 5.1])  # Predicted values\n",
        "\n",
        "loss = get_loss(y_pred, y_true)\n",
        "print(f\"Mean Squared Error: {loss}\")"
      ],
      "metadata": {
        "colab": {
          "base_uri": "https://localhost:8080/"
        },
        "id": "kIZl2aPwpgfe",
        "outputId": "d4709d71-76bc-4250-d2e4-43c5e8409cf6"
      },
      "execution_count": null,
      "outputs": [
        {
          "output_type": "stream",
          "name": "stdout",
          "text": [
            "Mean Squared Error: 0.014000000000000007\n"
          ]
        }
      ]
    },
    {
      "cell_type": "code",
      "source": [
        "y_pred = get_prediction(x, theta)\n",
        "loss = get_loss(y_pred,y_true)"
      ],
      "metadata": {
        "id": "j9UB96byph8Z",
        "colab": {
          "base_uri": "https://localhost:8080/",
          "height": 280
        },
        "outputId": "87efb88d-02d4-45c8-ed8a-c736d29d521c"
      },
      "execution_count": null,
      "outputs": [
        {
          "output_type": "error",
          "ename": "AssertionError",
          "evalue": "",
          "traceback": [
            "\u001b[0;31m---------------------------------------------------------------------------\u001b[0m",
            "\u001b[0;31mAssertionError\u001b[0m                            Traceback (most recent call last)",
            "\u001b[0;32m<ipython-input-128-1bf3a98ffe21>\u001b[0m in \u001b[0;36m<cell line: 2>\u001b[0;34m()\u001b[0m\n\u001b[1;32m      1\u001b[0m \u001b[0my_pred\u001b[0m \u001b[0;34m=\u001b[0m \u001b[0mget_prediction\u001b[0m\u001b[0;34m(\u001b[0m\u001b[0mx\u001b[0m\u001b[0;34m,\u001b[0m \u001b[0mtheta\u001b[0m\u001b[0;34m)\u001b[0m\u001b[0;34m\u001b[0m\u001b[0;34m\u001b[0m\u001b[0m\n\u001b[0;32m----> 2\u001b[0;31m \u001b[0mloss\u001b[0m \u001b[0;34m=\u001b[0m \u001b[0mget_loss\u001b[0m\u001b[0;34m(\u001b[0m\u001b[0my_pred\u001b[0m\u001b[0;34m,\u001b[0m\u001b[0my_true\u001b[0m\u001b[0;34m)\u001b[0m\u001b[0;34m\u001b[0m\u001b[0;34m\u001b[0m\u001b[0m\n\u001b[0m",
            "\u001b[0;32m<ipython-input-126-9bd422e3d12f>\u001b[0m in \u001b[0;36mget_loss\u001b[0;34m(y_pred, y_true)\u001b[0m\n\u001b[1;32m     11\u001b[0m     '''\n\u001b[1;32m     12\u001b[0m \u001b[0;34m\u001b[0m\u001b[0m\n\u001b[0;32m---> 13\u001b[0;31m     \u001b[0;32massert\u001b[0m \u001b[0mlen\u001b[0m\u001b[0;34m(\u001b[0m\u001b[0my_pred\u001b[0m\u001b[0;34m)\u001b[0m \u001b[0;34m==\u001b[0m \u001b[0mlen\u001b[0m\u001b[0;34m(\u001b[0m\u001b[0my_true\u001b[0m\u001b[0;34m)\u001b[0m \u001b[0;31m# sanity check the inputs make sense\u001b[0m\u001b[0;34m\u001b[0m\u001b[0;34m\u001b[0m\u001b[0m\n\u001b[0m\u001b[1;32m     14\u001b[0m \u001b[0;34m\u001b[0m\u001b[0m\n\u001b[1;32m     15\u001b[0m     \u001b[0;31m# Calculate the Mean Squared Error (MSE)\u001b[0m\u001b[0;34m\u001b[0m\u001b[0;34m\u001b[0m\u001b[0m\n",
            "\u001b[0;31mAssertionError\u001b[0m: "
          ]
        }
      ]
    },
    {
      "cell_type": "code",
      "source": [
        "y_pred"
      ],
      "metadata": {
        "colab": {
          "base_uri": "https://localhost:8080/"
        },
        "id": "0fl5nZE6plER",
        "outputId": "ffd7eb23-7216-4601-a443-ed2e9f428c93"
      },
      "execution_count": null,
      "outputs": [
        {
          "output_type": "execute_result",
          "data": {
            "text/plain": [
              "array([ 2.05908596,  3.67451327,  1.24175972,  0.71925401,  2.04767343,\n",
              "        0.60291769,  2.01220736,  6.6468726 , -0.66286178,  1.57705602,\n",
              "        1.39127174,  0.79395583,  0.6201367 ,  1.97648486,  1.94798824,\n",
              "        1.23778634,  1.12286918,  1.26987297,  1.45879147,  1.34365703,\n",
              "        0.37405779,  3.82580263,  0.92496454,  0.60803705,  0.63490154,\n",
              "        2.01471128,  5.87931667, 14.92392215,  1.4815118 , 11.4950036 ,\n",
              "       13.61391783,  8.43158707])"
            ]
          },
          "metadata": {},
          "execution_count": 129
        }
      ]
    },
    {
      "cell_type": "code",
      "source": [
        " #Plot the data and predictions\n",
        "plt.scatter(x, y, marker='x', color='crimson', label='data')\n",
        "\n",
        "# Show the \"initial guess\" for the prediction\n",
        "xx = np.linspace(min(x), max(x), 100)\n",
        "f_theta = get_prediction(xx, theta)\n",
        "plt.plot(xx, f_theta, label='pred')\n",
        "\n",
        "# Plot h_theta(x) for the data samples\n",
        "plt.scatter(x, y_pred, marker='o', color='navy', label=r'$h_\\theta(x)$')\n",
        "\n",
        "ax = plt.gca()\n",
        "plt.text(.5, .9, f'loss = {loss:2.2f}', fontsize=16,\n",
        "         ha='center', va='top', transform=ax.transAxes)\n",
        "\n",
        "plt.xlabel('$x$', fontsize=20)\n",
        "plt.ylabel('$y$', fontsize=20)\n",
        "\n",
        "plt.legend(fontsize=16)\n",
        "plt.show()"
      ],
      "metadata": {
        "colab": {
          "base_uri": "https://localhost:8080/",
          "height": 463
        },
        "id": "gLarz7nxp7Ha",
        "outputId": "359ff388-6a52-4787-9728-ad120599783d"
      },
      "execution_count": null,
      "outputs": [
        {
          "output_type": "display_data",
          "data": {
            "text/plain": [
              "<Figure size 640x480 with 1 Axes>"
            ],
            "image/png": "[encoded data removed]"
          },
          "metadata": {}
        }
      ]
    },
    {
      "cell_type": "markdown",
      "source": [
        "Step 2b) Gradient of the loss with respect to  θ"
      ],
      "metadata": {
        "id": "YmhVG8ztqtX1"
      }
    },
    {
      "cell_type": "code",
      "source": [
        "def get_grad(x, y, theta):\n",
        "    '''\n",
        "    Code up the gradient of the loss with respect to theta.\n",
        "\n",
        "    Input:\n",
        "    - x: array (n,)\n",
        "    - y: array (n,)\n",
        "    - theta: (d,)\n",
        "\n",
        "    Output:\n",
        "    - dtheta: (d,)\n",
        "    '''\n",
        "\n",
        "    assert x.shape[0] == y.shape[0]\n",
        "\n",
        "    n = x.shape[0]\n",
        "\n",
        "    # Construct the design matrix X: shape (n, d)\n",
        "    X = np.column_stack((np.ones(n), x, x**2, x**3))\n",
        "\n",
        "    # Compute the predictions\n",
        "    y_pred = X.dot(theta)\n",
        "\n",
        "    # Compute the gradient\n",
        "    dtheta = (2/n) * X.T.dot(y_pred - y)\n",
        "\n",
        "    return dtheta\n",
        "\n",
        "# Compute the gradient\n",
        "gradient = get_grad(x, y, theta)\n",
        "print(f\"Gradient: {gradient}\")"
      ],
      "metadata": {
        "colab": {
          "base_uri": "https://localhost:8080/"
        },
        "id": "KUzXmWLmqwe_",
        "outputId": "fdbcd886-3ed5-4da5-914d-cda0ae24ccda"
      },
      "execution_count": null,
      "outputs": [
        {
          "output_type": "stream",
          "name": "stdout",
          "text": [
            "Gradient: [ -4.76914358   9.06924968 -37.90735046  79.93242886]\n"
          ]
        }
      ]
    },
    {
      "cell_type": "markdown",
      "source": [
        "Step 3: Set up a training loop to infer the parameters"
      ],
      "metadata": {
        "id": "cvieVbzFtcFJ"
      }
    },
    {
      "cell_type": "code",
      "source": [
        "alpha=.001"
      ],
      "metadata": {
        "id": "VoyjeigMtZrE"
      },
      "execution_count": null,
      "outputs": []
    },
    {
      "cell_type": "code",
      "source": [
        "losses = []\n",
        "\n",
        "for i in range(1000):\n",
        "\n",
        "    # Calculate y_pred\n",
        "    y_pred = get_prediction(x,theta)\n",
        "\n",
        "    # Get the loss\n",
        "    loss = get_loss(y_pred,y)\n",
        "\n",
        "    # Calculate the gradient\n",
        "    dtheta = get_grad(x,y,theta)\n",
        "\n",
        "    # Update the parameters\n",
        "    theta -= alpha * dtheta\n",
        "\n",
        "    # Save the values\n",
        "    losses.append(loss)"
      ],
      "metadata": {
        "id": "WdVQZY3-tbnK"
      },
      "execution_count": null,
      "outputs": []
    },
    {
      "cell_type": "code",
      "source": [
        "plt.plot(losses)\n",
        "plt.xlabel('iterations',fontsize=16)\n",
        "plt.ylabel('Loss',fontsize=16)"
      ],
      "metadata": {
        "colab": {
          "base_uri": "https://localhost:8080/",
          "height": 472
        },
        "id": "RtmEPqJFtmf8",
        "outputId": "6322d0a0-c62a-4de2-fbf2-f06ad6eee497"
      },
      "execution_count": null,
      "outputs": [
        {
          "output_type": "execute_result",
          "data": {
            "text/plain": [
              "Text(0, 0.5, 'Loss')"
            ]
          },
          "metadata": {},
          "execution_count": 134
        },
        {
          "output_type": "display_data",
          "data": {
            "text/plain": [
              "<Figure size 640x480 with 1 Axes>"
            ],
            "image/png": "[encoded data removed]"
          },
          "metadata": {}
        }
      ]
    },
    {
      "cell_type": "code",
      "source": [
        "losses[-10:]"
      ],
      "metadata": {
        "colab": {
          "base_uri": "https://localhost:8080/"
        },
        "id": "TAQnu1_6tozM",
        "outputId": "f4bd5d97-3c95-4f35-d532-5c8bfdaf1f61"
      },
      "execution_count": null,
      "outputs": [
        {
          "output_type": "execute_result",
          "data": {
            "text/plain": [
              "[0.6353755232828919,\n",
              " 0.6341334600397724,\n",
              " 0.632893970858645,\n",
              " 0.6316570503974858,\n",
              " 0.6304226933253658,\n",
              " 0.6291908943224371,\n",
              " 0.627961648079902,\n",
              " 0.626734949299995,\n",
              " 0.6255107926959573,\n",
              " 0.6242891729920145]"
            ]
          },
          "metadata": {},
          "execution_count": 135
        }
      ]
    },
    {
      "cell_type": "code",
      "source": [
        "# Overlay the \"initial guess\" of the data prediction\n",
        "y_pred = get_prediction(x,theta)\n",
        "\n",
        "plt.scatter(x,y,marker='x',color='crimson',label='data')\n",
        "\n",
        "# plt.scatter(x,y_pred,marker='o',color='navy',label=r'$h_\\theta(x)$')\n",
        "\n",
        "ax = plt.gca()\n",
        "plt.text(.5,.9,f'loss = {loss:2.2f}',fontsize=16,\n",
        "         ha='center',va='top',transform=ax.transAxes)\n",
        "\n",
        "plt.xlabel('$x$',fontsize=20)\n",
        "plt.ylabel('$y$',fontsize=20)\n",
        "\n",
        "# Get the continuous version of the prediction\n",
        "f_theta = get_prediction(xx,theta)\n",
        "plt.plot(xx,f_theta, label='pred' )\n",
        "\n",
        "plt.legend(fontsize=16)"
      ],
      "metadata": {
        "colab": {
          "base_uri": "https://localhost:8080/",
          "height": 480
        },
        "id": "jD53Z0-ZtsqO",
        "outputId": "0097ca8f-378e-47bc-99b4-f0f131a64826"
      },
      "execution_count": null,
      "outputs": [
        {
          "output_type": "execute_result",
          "data": {
            "text/plain": [
              "<matplotlib.legend.Legend at 0x7cd2af1d3af0>"
            ]
          },
          "metadata": {},
          "execution_count": 136
        },
        {
          "output_type": "display_data",
          "data": {
            "text/plain": [
              "<Figure size 640x480 with 1 Axes>"
            ],
            "image/png": "[encoded data removed]"
          },
          "metadata": {}
        }
      ]
    },
    {
      "cell_type": "code",
      "source": [
        "theta"
      ],
      "metadata": {
        "colab": {
          "base_uri": "https://localhost:8080/"
        },
        "id": "I26lZrhqt7je",
        "outputId": "7c52558f-3d8d-4e60-af17-3e85d5f1f665"
      },
      "execution_count": null,
      "outputs": [
        {
          "output_type": "execute_result",
          "data": {
            "text/plain": [
              "array([-0.33701657,  2.15228588,  1.87954751, -0.8748479 ])"
            ]
          },
          "metadata": {},
          "execution_count": 137
        }
      ]
    }
  ]
}