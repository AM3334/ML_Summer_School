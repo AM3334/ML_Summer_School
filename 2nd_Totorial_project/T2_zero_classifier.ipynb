{
  "nbformat": 4,
  "nbformat_minor": 0,
  "metadata": {
    "colab": {
      "provenance": []
    },
    "kernelspec": {
      "name": "python3",
      "display_name": "Python 3"
    },
    "language_info": {
      "name": "python"
    }
  },
  "cells": [
    {
      "cell_type": "code",
      "execution_count": null,
      "metadata": {
        "colab": {
          "base_uri": "https://localhost:8080/"
        },
        "id": "paJw3E8kWQ_1",
        "outputId": "9f324016-5939-4a9d-f6ca-da1f3bf1e107"
      },
      "outputs": [
        {
          "output_type": "stream",
          "name": "stdout",
          "text": [
            "Requirement already satisfied: jax in /usr/local/lib/python3.10/dist-packages (0.4.26)\n",
            "Requirement already satisfied: jaxlib in /usr/local/lib/python3.10/dist-packages (0.4.26+cuda12.cudnn89)\n",
            "Requirement already satisfied: flax in /usr/local/lib/python3.10/dist-packages (0.8.4)\n",
            "Requirement already satisfied: torchvision in /usr/local/lib/python3.10/dist-packages (0.18.1+cu121)\n",
            "Requirement already satisfied: torch in /usr/local/lib/python3.10/dist-packages (2.3.1+cu121)\n",
            "Requirement already satisfied: numpy in /usr/local/lib/python3.10/dist-packages (1.25.2)\n",
            "Requirement already satisfied: matplotlib in /usr/local/lib/python3.10/dist-packages (3.7.1)\n",
            "Requirement already satisfied: optax in /usr/local/lib/python3.10/dist-packages (0.2.2)\n",
            "Requirement already satisfied: ml-dtypes>=0.2.0 in /usr/local/lib/python3.10/dist-packages (from jax) (0.2.0)\n",
            "Requirement already satisfied: opt-einsum in /usr/local/lib/python3.10/dist-packages (from jax) (3.3.0)\n",
            "Requirement already satisfied: scipy>=1.9 in /usr/local/lib/python3.10/dist-packages (from jax) (1.11.4)\n",
            "Requirement already satisfied: msgpack in /usr/local/lib/python3.10/dist-packages (from flax) (1.0.8)\n",
            "Requirement already satisfied: orbax-checkpoint in /usr/local/lib/python3.10/dist-packages (from flax) (0.4.4)\n",
            "Requirement already satisfied: tensorstore in /usr/local/lib/python3.10/dist-packages (from flax) (0.1.45)\n",
            "Requirement already satisfied: rich>=11.1 in /usr/local/lib/python3.10/dist-packages (from flax) (13.7.1)\n",
            "Requirement already satisfied: typing-extensions>=4.2 in /usr/local/lib/python3.10/dist-packages (from flax) (4.12.2)\n",
            "Requirement already satisfied: PyYAML>=5.4.1 in /usr/local/lib/python3.10/dist-packages (from flax) (6.0.1)\n",
            "Requirement already satisfied: pillow!=8.3.*,>=5.3.0 in /usr/local/lib/python3.10/dist-packages (from torchvision) (9.4.0)\n",
            "Requirement already satisfied: filelock in /usr/local/lib/python3.10/dist-packages (from torch) (3.15.4)\n",
            "Requirement already satisfied: sympy in /usr/local/lib/python3.10/dist-packages (from torch) (1.13.0)\n",
            "Requirement already satisfied: networkx in /usr/local/lib/python3.10/dist-packages (from torch) (3.3)\n",
            "Requirement already satisfied: jinja2 in /usr/local/lib/python3.10/dist-packages (from torch) (3.1.4)\n",
            "Requirement already satisfied: fsspec in /usr/local/lib/python3.10/dist-packages (from torch) (2023.6.0)\n",
            "Collecting nvidia-cuda-nvrtc-cu12==12.1.105 (from torch)\n",
            "  Using cached nvidia_cuda_nvrtc_cu12-12.1.105-py3-none-manylinux1_x86_64.whl (23.7 MB)\n",
            "Collecting nvidia-cuda-runtime-cu12==12.1.105 (from torch)\n",
            "  Using cached nvidia_cuda_runtime_cu12-12.1.105-py3-none-manylinux1_x86_64.whl (823 kB)\n",
            "Collecting nvidia-cuda-cupti-cu12==12.1.105 (from torch)\n",
            "  Using cached nvidia_cuda_cupti_cu12-12.1.105-py3-none-manylinux1_x86_64.whl (14.1 MB)\n",
            "Collecting nvidia-cudnn-cu12==8.9.2.26 (from torch)\n",
            "  Using cached nvidia_cudnn_cu12-8.9.2.26-py3-none-manylinux1_x86_64.whl (731.7 MB)\n",
            "Collecting nvidia-cublas-cu12==12.1.3.1 (from torch)\n",
            "  Using cached nvidia_cublas_cu12-12.1.3.1-py3-none-manylinux1_x86_64.whl (410.6 MB)\n",
            "Collecting nvidia-cufft-cu12==11.0.2.54 (from torch)\n",
            "  Using cached nvidia_cufft_cu12-11.0.2.54-py3-none-manylinux1_x86_64.whl (121.6 MB)\n",
            "Collecting nvidia-curand-cu12==10.3.2.106 (from torch)\n",
            "  Using cached nvidia_curand_cu12-10.3.2.106-py3-none-manylinux1_x86_64.whl (56.5 MB)\n",
            "Collecting nvidia-cusolver-cu12==11.4.5.107 (from torch)\n",
            "  Using cached nvidia_cusolver_cu12-11.4.5.107-py3-none-manylinux1_x86_64.whl (124.2 MB)\n",
            "Collecting nvidia-cusparse-cu12==12.1.0.106 (from torch)\n",
            "  Using cached nvidia_cusparse_cu12-12.1.0.106-py3-none-manylinux1_x86_64.whl (196.0 MB)\n",
            "Collecting nvidia-nccl-cu12==2.20.5 (from torch)\n",
            "  Using cached nvidia_nccl_cu12-2.20.5-py3-none-manylinux2014_x86_64.whl (176.2 MB)\n",
            "Collecting nvidia-nvtx-cu12==12.1.105 (from torch)\n",
            "  Using cached nvidia_nvtx_cu12-12.1.105-py3-none-manylinux1_x86_64.whl (99 kB)\n",
            "Requirement already satisfied: triton==2.3.1 in /usr/local/lib/python3.10/dist-packages (from torch) (2.3.1)\n",
            "Collecting nvidia-nvjitlink-cu12 (from nvidia-cusolver-cu12==11.4.5.107->torch)\n",
            "  Downloading nvidia_nvjitlink_cu12-12.5.82-py3-none-manylinux2014_x86_64.whl (21.3 MB)\n",
            "\u001b[2K     \u001b[90m━━━━━━━━━━━━━━━━━━━━━━━━━━━━━━━━━━━━━━━━\u001b[0m \u001b[32m21.3/21.3 MB\u001b[0m \u001b[31m48.9 MB/s\u001b[0m eta \u001b[36m0:00:00\u001b[0m\n",
            "\u001b[?25hRequirement already satisfied: contourpy>=1.0.1 in /usr/local/lib/python3.10/dist-packages (from matplotlib) (1.2.1)\n",
            "Requirement already satisfied: cycler>=0.10 in /usr/local/lib/python3.10/dist-packages (from matplotlib) (0.12.1)\n",
            "Requirement already satisfied: fonttools>=4.22.0 in /usr/local/lib/python3.10/dist-packages (from matplotlib) (4.53.1)\n",
            "Requirement already satisfied: kiwisolver>=1.0.1 in /usr/local/lib/python3.10/dist-packages (from matplotlib) (1.4.5)\n",
            "Requirement already satisfied: packaging>=20.0 in /usr/local/lib/python3.10/dist-packages (from matplotlib) (24.1)\n",
            "Requirement already satisfied: pyparsing>=2.3.1 in /usr/local/lib/python3.10/dist-packages (from matplotlib) (3.1.2)\n",
            "Requirement already satisfied: python-dateutil>=2.7 in /usr/local/lib/python3.10/dist-packages (from matplotlib) (2.8.2)\n",
            "Requirement already satisfied: absl-py>=0.7.1 in /usr/local/lib/python3.10/dist-packages (from optax) (1.4.0)\n",
            "Requirement already satisfied: chex>=0.1.86 in /usr/local/lib/python3.10/dist-packages (from optax) (0.1.86)\n",
            "Requirement already satisfied: toolz>=0.9.0 in /usr/local/lib/python3.10/dist-packages (from chex>=0.1.86->optax) (0.12.1)\n",
            "Requirement already satisfied: six>=1.5 in /usr/local/lib/python3.10/dist-packages (from python-dateutil>=2.7->matplotlib) (1.16.0)\n",
            "Requirement already satisfied: markdown-it-py>=2.2.0 in /usr/local/lib/python3.10/dist-packages (from rich>=11.1->flax) (3.0.0)\n",
            "Requirement already satisfied: pygments<3.0.0,>=2.13.0 in /usr/local/lib/python3.10/dist-packages (from rich>=11.1->flax) (2.16.1)\n",
            "Requirement already satisfied: MarkupSafe>=2.0 in /usr/local/lib/python3.10/dist-packages (from jinja2->torch) (2.1.5)\n",
            "Requirement already satisfied: etils[epath,epy] in /usr/local/lib/python3.10/dist-packages (from orbax-checkpoint->flax) (1.7.0)\n",
            "Requirement already satisfied: nest_asyncio in /usr/local/lib/python3.10/dist-packages (from orbax-checkpoint->flax) (1.6.0)\n",
            "Requirement already satisfied: protobuf in /usr/local/lib/python3.10/dist-packages (from orbax-checkpoint->flax) (3.20.3)\n",
            "Requirement already satisfied: mpmath<1.4,>=1.1.0 in /usr/local/lib/python3.10/dist-packages (from sympy->torch) (1.3.0)\n",
            "Requirement already satisfied: mdurl~=0.1 in /usr/local/lib/python3.10/dist-packages (from markdown-it-py>=2.2.0->rich>=11.1->flax) (0.1.2)\n",
            "Requirement already satisfied: importlib_resources in /usr/local/lib/python3.10/dist-packages (from etils[epath,epy]->orbax-checkpoint->flax) (6.4.0)\n",
            "Requirement already satisfied: zipp in /usr/local/lib/python3.10/dist-packages (from etils[epath,epy]->orbax-checkpoint->flax) (3.19.2)\n",
            "Installing collected packages: nvidia-nvtx-cu12, nvidia-nvjitlink-cu12, nvidia-nccl-cu12, nvidia-curand-cu12, nvidia-cufft-cu12, nvidia-cuda-runtime-cu12, nvidia-cuda-nvrtc-cu12, nvidia-cuda-cupti-cu12, nvidia-cublas-cu12, nvidia-cusparse-cu12, nvidia-cudnn-cu12, nvidia-cusolver-cu12\n",
            "Successfully installed nvidia-cublas-cu12-12.1.3.1 nvidia-cuda-cupti-cu12-12.1.105 nvidia-cuda-nvrtc-cu12-12.1.105 nvidia-cuda-runtime-cu12-12.1.105 nvidia-cudnn-cu12-8.9.2.26 nvidia-cufft-cu12-11.0.2.54 nvidia-curand-cu12-10.3.2.106 nvidia-cusolver-cu12-11.4.5.107 nvidia-cusparse-cu12-12.1.0.106 nvidia-nccl-cu12-2.20.5 nvidia-nvjitlink-cu12-12.5.82 nvidia-nvtx-cu12-12.1.105\n"
          ]
        }
      ],
      "source": [
        "!pip install jax jaxlib flax torchvision torch numpy matplotlib optax"
      ]
    },
    {
      "cell_type": "code",
      "source": [
        "# as opposed to pytorch, jax handles device (gpu or cpu) placement automatically\n",
        "# Now let's check whether you are actually using a gpu, if so, the output should be a cuda id, otherwise you are using a cpu\n",
        "# for this problem, it doesn't really matter since we will train a small neural network\n",
        "\n",
        "import jax\n",
        "print(jax.devices())"
      ],
      "metadata": {
        "colab": {
          "base_uri": "https://localhost:8080/"
        },
        "id": "jhv7aDIVWXQd",
        "outputId": "7f1982ed-0894-41ad-e1d7-2d23c13ac0af"
      },
      "execution_count": null,
      "outputs": [
        {
          "output_type": "stream",
          "name": "stdout",
          "text": [
            "[CpuDevice(id=0)]\n"
          ]
        }
      ]
    },
    {
      "cell_type": "code",
      "source": [
        "import torchvision\n",
        "import torchvision.transforms as transforms\n",
        "import numpy as np\n",
        "import jax.numpy as jnp\n",
        "\n",
        "# These transformations are applied to the data as it is loaded, do not worry too much about them,\n",
        "# but I leave some explanations on why they are there for you to understand in case you are curious / confused\n",
        "\n",
        "transform = transforms.Compose(\n",
        "    (\n",
        "        transforms.ToTensor(), # This will transform the original data format of the images into pytorch tensors,\n",
        "        # so that we can use the Normalize transform on them\n",
        "        transforms.Normalize((0.5,), (0.5,)), # The images are originally scaled between 0 and 1,\n",
        "        # but generative models would usually standarize them to have 0 mean and 1 std\n",
        "        transforms.Lambda(lambda x: np.transpose(np.array(x), (1,2,0))), # we will convert pytorch tensors into jax obejects.\n",
        "        # An odd distinction between jax and pytorch is how they assume image data is formatted.\n",
        "        # # For pytorch an image has shape (n_channels, n_pixels, n_pixels),\n",
        "        #  whereas for jax it should be (n_pixels, n_pixels, n_channels), hence the transpose...\n",
        "    )\n",
        ")\n",
        "# Now we will create a dataset that can download and obtain the data we want\n",
        "train_dataset = torchvision.datasets.MNIST(root='./data', train=True, download=True, transform=transform)\n"
      ],
      "metadata": {
        "colab": {
          "base_uri": "https://localhost:8080/"
        },
        "id": "EoU3l3jtWfE0",
        "outputId": "9940f69c-c903-4a41-c9dc-ee031049387c"
      },
      "execution_count": null,
      "outputs": [
        {
          "output_type": "stream",
          "name": "stdout",
          "text": [
            "Downloading http://yann.lecun.com/exdb/mnist/train-images-idx3-ubyte.gz\n",
            "Failed to download (trying next):\n",
            "HTTP Error 403: Forbidden\n",
            "\n",
            "Downloading https://ossci-datasets.s3.amazonaws.com/mnist/train-images-idx3-ubyte.gz\n",
            "Downloading https://ossci-datasets.s3.amazonaws.com/mnist/train-images-idx3-ubyte.gz to ./data/MNIST/raw/train-images-idx3-ubyte.gz\n"
          ]
        },
        {
          "output_type": "stream",
          "name": "stderr",
          "text": [
            "100%|██████████| 9912422/9912422 [00:00<00:00, 15894994.76it/s]\n"
          ]
        },
        {
          "output_type": "stream",
          "name": "stdout",
          "text": [
            "Extracting ./data/MNIST/raw/train-images-idx3-ubyte.gz to ./data/MNIST/raw\n",
            "\n",
            "Downloading http://yann.lecun.com/exdb/mnist/train-labels-idx1-ubyte.gz\n",
            "Failed to download (trying next):\n",
            "HTTP Error 403: Forbidden\n",
            "\n",
            "Downloading https://ossci-datasets.s3.amazonaws.com/mnist/train-labels-idx1-ubyte.gz\n",
            "Downloading https://ossci-datasets.s3.amazonaws.com/mnist/train-labels-idx1-ubyte.gz to ./data/MNIST/raw/train-labels-idx1-ubyte.gz\n"
          ]
        },
        {
          "output_type": "stream",
          "name": "stderr",
          "text": [
            "100%|██████████| 28881/28881 [00:00<00:00, 479642.75it/s]\n"
          ]
        },
        {
          "output_type": "stream",
          "name": "stdout",
          "text": [
            "Extracting ./data/MNIST/raw/train-labels-idx1-ubyte.gz to ./data/MNIST/raw\n",
            "\n",
            "Downloading http://yann.lecun.com/exdb/mnist/t10k-images-idx3-ubyte.gz\n",
            "Failed to download (trying next):\n",
            "HTTP Error 403: Forbidden\n",
            "\n",
            "Downloading https://ossci-datasets.s3.amazonaws.com/mnist/t10k-images-idx3-ubyte.gz\n",
            "Downloading https://ossci-datasets.s3.amazonaws.com/mnist/t10k-images-idx3-ubyte.gz to ./data/MNIST/raw/t10k-images-idx3-ubyte.gz\n"
          ]
        },
        {
          "output_type": "stream",
          "name": "stderr",
          "text": [
            "100%|██████████| 1648877/1648877 [00:01<00:00, 968307.64it/s] \n"
          ]
        },
        {
          "output_type": "stream",
          "name": "stdout",
          "text": [
            "Extracting ./data/MNIST/raw/t10k-images-idx3-ubyte.gz to ./data/MNIST/raw\n",
            "\n",
            "Downloading http://yann.lecun.com/exdb/mnist/t10k-labels-idx1-ubyte.gz\n",
            "Failed to download (trying next):\n",
            "HTTP Error 403: Forbidden\n",
            "\n",
            "Downloading https://ossci-datasets.s3.amazonaws.com/mnist/t10k-labels-idx1-ubyte.gz\n",
            "Downloading https://ossci-datasets.s3.amazonaws.com/mnist/t10k-labels-idx1-ubyte.gz to ./data/MNIST/raw/t10k-labels-idx1-ubyte.gz\n"
          ]
        },
        {
          "output_type": "stream",
          "name": "stderr",
          "text": [
            "100%|██████████| 4542/4542 [00:00<00:00, 7444520.82it/s]"
          ]
        },
        {
          "output_type": "stream",
          "name": "stdout",
          "text": [
            "Extracting ./data/MNIST/raw/t10k-labels-idx1-ubyte.gz to ./data/MNIST/raw\n",
            "\n"
          ]
        },
        {
          "output_type": "stream",
          "name": "stderr",
          "text": [
            "\n"
          ]
        }
      ]
    },
    {
      "cell_type": "code",
      "source": [
        "# this is how we can get one example from our dataset\n",
        "image, target = train_dataset[5]"
      ],
      "metadata": {
        "id": "0kEz-43sWf4B"
      },
      "execution_count": null,
      "outputs": []
    },
    {
      "cell_type": "code",
      "source": [
        "# the label of the example\n",
        "target"
      ],
      "metadata": {
        "colab": {
          "base_uri": "https://localhost:8080/"
        },
        "id": "gLGJN8yAWl0q",
        "outputId": "e79f0dbc-60c5-469e-de10-ea6a76d700ba"
      },
      "execution_count": null,
      "outputs": [
        {
          "output_type": "execute_result",
          "data": {
            "text/plain": [
              "2"
            ]
          },
          "metadata": {},
          "execution_count": 5
        }
      ]
    },
    {
      "cell_type": "code",
      "source": [
        "# the shape of the example. This is an image with one channel (grayscale) and 28 pixels\n",
        "\n",
        "image.shape"
      ],
      "metadata": {
        "colab": {
          "base_uri": "https://localhost:8080/"
        },
        "id": "hIfyhmDZWmbW",
        "outputId": "0977aea9-2ee9-49fe-a71d-6249a36fe523"
      },
      "execution_count": null,
      "outputs": [
        {
          "output_type": "execute_result",
          "data": {
            "text/plain": [
              "(28, 28, 1)"
            ]
          },
          "metadata": {},
          "execution_count": 6
        }
      ]
    },
    {
      "cell_type": "code",
      "source": [
        "# and let's have a look at the image using matplotlib\n",
        "#TODO always check your data loader and make sure the labels seem sensible by visual inspection,\n",
        "# here, play with index to see different images\n",
        "\n",
        "index = 5\n",
        "image, target = train_dataset[index]\n",
        "\n",
        "import matplotlib.pyplot as plt\n",
        "plt.imshow(image[:,:,0], cmap='gray')\n",
        "plt.title(f'Target = {target}')"
      ],
      "metadata": {
        "colab": {
          "base_uri": "https://localhost:8080/",
          "height": 469
        },
        "id": "9YEPEPm8WotB",
        "outputId": "1ee21bb4-3843-42f9-809f-b9cd51bd09da"
      },
      "execution_count": null,
      "outputs": [
        {
          "output_type": "execute_result",
          "data": {
            "text/plain": [
              "Text(0.5, 1.0, 'Target = 2')"
            ]
          },
          "metadata": {},
          "execution_count": 7
        },
        {
          "output_type": "display_data",
          "data": {
            "text/plain": [
              "<Figure size 640x480 with 1 Axes>"
            ],
            "image/png": "[encoded data removed]"
          },
          "metadata": {}
        }
      ]
    },
    {
      "cell_type": "code",
      "source": [
        "# but we want to get batches (groups) of examples from the training set, for that we will need a data loader\n",
        "# that randomly loads batches of examples:\n",
        "from torch.utils.data import DataLoader\n",
        "batch_size = 64\n",
        "train_dataloader = DataLoader(train_dataset, batch_size=batch_size, shuffle=True, drop_last=True)\n",
        "\n",
        "train_loader = iter(train_dataloader)"
      ],
      "metadata": {
        "id": "qvcUeGLWWsTz"
      },
      "execution_count": null,
      "outputs": []
    },
    {
      "cell_type": "code",
      "source": [
        "# Now when we call batch, we get a fresh batch of data and labels\n",
        "x_batch, y_batch = next(train_loader)"
      ],
      "metadata": {
        "id": "QMoz-mD3Wv7E"
      },
      "execution_count": null,
      "outputs": []
    },
    {
      "cell_type": "code",
      "source": [
        "x_batch.shape\n",
        "\n",
        "#TODO: what shape do you expect x_batch to have? Write down your guess for expected_shape here:  (64, 28, 28, 1)\n",
        "\n",
        "expected_shape = (64, 28, 28, 1)\n",
        "assert x_batch.shape == expected_shape"
      ],
      "metadata": {
        "id": "e3Ul3v90Wz0o"
      },
      "execution_count": null,
      "outputs": []
    },
    {
      "cell_type": "code",
      "source": [
        "\n",
        "\n",
        "import flax.linen as nn\n",
        "\n",
        "class MLP(nn.Module):\n",
        "    @nn.compact\n",
        "    def __call__(self, x):\n",
        "        x = x.reshape((x.shape[0], -1))  # Flatten the input\n",
        "        #TODO : Write a multi layer perceptron using jax, apply dense layers and non-linearities,\n",
        "        # until you reach the desired output size\n",
        "\n",
        "        # First hidden layer\n",
        "        x = nn.Dense(features=512)(x)\n",
        "        x = nn.relu(x)\n",
        "\n",
        "        # Second hidden layer\n",
        "        x = nn.Dense(features=256)(x)\n",
        "        x = nn.relu(x)\n",
        "\n",
        "        # Third hidden layer\n",
        "        x = nn.Dense(features=128)(x)\n",
        "        x = nn.relu(x)  # Non-linearity\n",
        "\n",
        "        # Output layer\n",
        "        x = nn.Dense(features=10)(x)  # Output should match the desired output size (10 classes)\n",
        "\n",
        "\n",
        "        return x\n",
        "\n",
        "model = MLP()"
      ],
      "metadata": {
        "id": "_aaiUwVXW8yh"
      },
      "execution_count": null,
      "outputs": []
    },
    {
      "cell_type": "code",
      "source": [
        "\n",
        "example_input = jnp.ones((64,28,28,1))\n",
        "params = model.init(jax.random.PRNGKey(0), example_input)  # Example input for shape inference\n"
      ],
      "metadata": {
        "id": "j3xjDkbiXtR1"
      },
      "execution_count": null,
      "outputs": []
    },
    {
      "cell_type": "code",
      "source": [
        "# let's look at params, it should be a dictionary containing the parameters' names and values\n",
        "params"
      ],
      "metadata": {
        "colab": {
          "base_uri": "https://localhost:8080/"
        },
        "id": "FDSqndghXxw2",
        "outputId": "e79acb8a-e075-4774-84b4-dfb8de86ed44"
      },
      "execution_count": null,
      "outputs": [
        {
          "output_type": "execute_result",
          "data": {
            "text/plain": [
              "{'params': {'Dense_0': {'kernel': Array([[-0.03913071,  0.05444214,  0.04740295, ...,  0.06523017,\n",
              "            0.0119872 ,  0.08043634],\n",
              "          [ 0.01668965, -0.00612889,  0.00993335, ..., -0.02016362,\n",
              "            0.04787786,  0.0510066 ],\n",
              "          [-0.04086368,  0.05011394, -0.00382218, ...,  0.03551805,\n",
              "            0.00043432,  0.01461799],\n",
              "          ...,\n",
              "          [ 0.00547553, -0.02139576,  0.03528886, ..., -0.06179287,\n",
              "            0.02263864, -0.02301445],\n",
              "          [ 0.03864831, -0.00599695,  0.00455287, ...,  0.00773665,\n",
              "           -0.04161145, -0.03113718],\n",
              "          [-0.08020224, -0.06572444, -0.06583147, ..., -0.04730776,\n",
              "           -0.01103787,  0.02308792]], dtype=float32),\n",
              "   'bias': Array([0., 0., 0., 0., 0., 0., 0., 0., 0., 0., 0., 0., 0., 0., 0., 0., 0.,\n",
              "          0., 0., 0., 0., 0., 0., 0., 0., 0., 0., 0., 0., 0., 0., 0., 0., 0.,\n",
              "          0., 0., 0., 0., 0., 0., 0., 0., 0., 0., 0., 0., 0., 0., 0., 0., 0.,\n",
              "          0., 0., 0., 0., 0., 0., 0., 0., 0., 0., 0., 0., 0., 0., 0., 0., 0.,\n",
              "          0., 0., 0., 0., 0., 0., 0., 0., 0., 0., 0., 0., 0., 0., 0., 0., 0.,\n",
              "          0., 0., 0., 0., 0., 0., 0., 0., 0., 0., 0., 0., 0., 0., 0., 0., 0.,\n",
              "          0., 0., 0., 0., 0., 0., 0., 0., 0., 0., 0., 0., 0., 0., 0., 0., 0.,\n",
              "          0., 0., 0., 0., 0., 0., 0., 0., 0., 0., 0., 0., 0., 0., 0., 0., 0.,\n",
              "          0., 0., 0., 0., 0., 0., 0., 0., 0., 0., 0., 0., 0., 0., 0., 0., 0.,\n",
              "          0., 0., 0., 0., 0., 0., 0., 0., 0., 0., 0., 0., 0., 0., 0., 0., 0.,\n",
              "          0., 0., 0., 0., 0., 0., 0., 0., 0., 0., 0., 0., 0., 0., 0., 0., 0.,\n",
              "          0., 0., 0., 0., 0., 0., 0., 0., 0., 0., 0., 0., 0., 0., 0., 0., 0.,\n",
              "          0., 0., 0., 0., 0., 0., 0., 0., 0., 0., 0., 0., 0., 0., 0., 0., 0.,\n",
              "          0., 0., 0., 0., 0., 0., 0., 0., 0., 0., 0., 0., 0., 0., 0., 0., 0.,\n",
              "          0., 0., 0., 0., 0., 0., 0., 0., 0., 0., 0., 0., 0., 0., 0., 0., 0.,\n",
              "          0., 0., 0., 0., 0., 0., 0., 0., 0., 0., 0., 0., 0., 0., 0., 0., 0.,\n",
              "          0., 0., 0., 0., 0., 0., 0., 0., 0., 0., 0., 0., 0., 0., 0., 0., 0.,\n",
              "          0., 0., 0., 0., 0., 0., 0., 0., 0., 0., 0., 0., 0., 0., 0., 0., 0.,\n",
              "          0., 0., 0., 0., 0., 0., 0., 0., 0., 0., 0., 0., 0., 0., 0., 0., 0.,\n",
              "          0., 0., 0., 0., 0., 0., 0., 0., 0., 0., 0., 0., 0., 0., 0., 0., 0.,\n",
              "          0., 0., 0., 0., 0., 0., 0., 0., 0., 0., 0., 0., 0., 0., 0., 0., 0.,\n",
              "          0., 0., 0., 0., 0., 0., 0., 0., 0., 0., 0., 0., 0., 0., 0., 0., 0.,\n",
              "          0., 0., 0., 0., 0., 0., 0., 0., 0., 0., 0., 0., 0., 0., 0., 0., 0.,\n",
              "          0., 0., 0., 0., 0., 0., 0., 0., 0., 0., 0., 0., 0., 0., 0., 0., 0.,\n",
              "          0., 0., 0., 0., 0., 0., 0., 0., 0., 0., 0., 0., 0., 0., 0., 0., 0.,\n",
              "          0., 0., 0., 0., 0., 0., 0., 0., 0., 0., 0., 0., 0., 0., 0., 0., 0.,\n",
              "          0., 0., 0., 0., 0., 0., 0., 0., 0., 0., 0., 0., 0., 0., 0., 0., 0.,\n",
              "          0., 0., 0., 0., 0., 0., 0., 0., 0., 0., 0., 0., 0., 0., 0., 0., 0.,\n",
              "          0., 0., 0., 0., 0., 0., 0., 0., 0., 0., 0., 0., 0., 0., 0., 0., 0.,\n",
              "          0., 0., 0., 0., 0., 0., 0., 0., 0., 0., 0., 0., 0., 0., 0., 0., 0.,\n",
              "          0., 0.], dtype=float32)},\n",
              "  'Dense_1': {'kernel': Array([[ 0.06546995, -0.01212773, -0.02535369, ..., -0.04385953,\n",
              "           -0.07569288,  0.02325616],\n",
              "          [ 0.00401654, -0.03348659, -0.07511987, ..., -0.0602813 ,\n",
              "           -0.09934289,  0.05014414],\n",
              "          [-0.02597844,  0.09249484,  0.03278944, ...,  0.07117672,\n",
              "            0.01043045,  0.01425371],\n",
              "          ...,\n",
              "          [ 0.03631758,  0.00178938,  0.03067015, ..., -0.01579887,\n",
              "           -0.07995402,  0.09758547],\n",
              "          [-0.05048203,  0.02447868, -0.00090143, ...,  0.01050486,\n",
              "            0.06671581, -0.08261661],\n",
              "          [-0.05051202, -0.00037245,  0.00223257, ...,  0.01344174,\n",
              "           -0.06193078,  0.06271353]], dtype=float32),\n",
              "   'bias': Array([0., 0., 0., 0., 0., 0., 0., 0., 0., 0., 0., 0., 0., 0., 0., 0., 0.,\n",
              "          0., 0., 0., 0., 0., 0., 0., 0., 0., 0., 0., 0., 0., 0., 0., 0., 0.,\n",
              "          0., 0., 0., 0., 0., 0., 0., 0., 0., 0., 0., 0., 0., 0., 0., 0., 0.,\n",
              "          0., 0., 0., 0., 0., 0., 0., 0., 0., 0., 0., 0., 0., 0., 0., 0., 0.,\n",
              "          0., 0., 0., 0., 0., 0., 0., 0., 0., 0., 0., 0., 0., 0., 0., 0., 0.,\n",
              "          0., 0., 0., 0., 0., 0., 0., 0., 0., 0., 0., 0., 0., 0., 0., 0., 0.,\n",
              "          0., 0., 0., 0., 0., 0., 0., 0., 0., 0., 0., 0., 0., 0., 0., 0., 0.,\n",
              "          0., 0., 0., 0., 0., 0., 0., 0., 0., 0., 0., 0., 0., 0., 0., 0., 0.,\n",
              "          0., 0., 0., 0., 0., 0., 0., 0., 0., 0., 0., 0., 0., 0., 0., 0., 0.,\n",
              "          0., 0., 0., 0., 0., 0., 0., 0., 0., 0., 0., 0., 0., 0., 0., 0., 0.,\n",
              "          0., 0., 0., 0., 0., 0., 0., 0., 0., 0., 0., 0., 0., 0., 0., 0., 0.,\n",
              "          0., 0., 0., 0., 0., 0., 0., 0., 0., 0., 0., 0., 0., 0., 0., 0., 0.,\n",
              "          0., 0., 0., 0., 0., 0., 0., 0., 0., 0., 0., 0., 0., 0., 0., 0., 0.,\n",
              "          0., 0., 0., 0., 0., 0., 0., 0., 0., 0., 0., 0., 0., 0., 0., 0., 0.,\n",
              "          0., 0., 0., 0., 0., 0., 0., 0., 0., 0., 0., 0., 0., 0., 0., 0., 0.,\n",
              "          0.], dtype=float32)},\n",
              "  'Dense_2': {'kernel': Array([[ 0.0178156 , -0.11306898, -0.10382684, ...,  0.07193048,\n",
              "            0.01845011, -0.0285907 ],\n",
              "          [-0.00111834, -0.01683764,  0.05901637, ..., -0.03940293,\n",
              "            0.02081861,  0.00575613],\n",
              "          [ 0.06848549, -0.02630844,  0.06839819, ..., -0.00589047,\n",
              "           -0.04998495, -0.01685799],\n",
              "          ...,\n",
              "          [ 0.05393443, -0.01704197, -0.0302039 , ..., -0.12649746,\n",
              "            0.08320371, -0.01909653],\n",
              "          [-0.01176242,  0.0004499 ,  0.09244762, ...,  0.02265976,\n",
              "           -0.11383275, -0.02908495],\n",
              "          [-0.12812369,  0.09263787, -0.05108222, ...,  0.00098117,\n",
              "            0.06982587,  0.09175821]], dtype=float32),\n",
              "   'bias': Array([0., 0., 0., 0., 0., 0., 0., 0., 0., 0., 0., 0., 0., 0., 0., 0., 0.,\n",
              "          0., 0., 0., 0., 0., 0., 0., 0., 0., 0., 0., 0., 0., 0., 0., 0., 0.,\n",
              "          0., 0., 0., 0., 0., 0., 0., 0., 0., 0., 0., 0., 0., 0., 0., 0., 0.,\n",
              "          0., 0., 0., 0., 0., 0., 0., 0., 0., 0., 0., 0., 0., 0., 0., 0., 0.,\n",
              "          0., 0., 0., 0., 0., 0., 0., 0., 0., 0., 0., 0., 0., 0., 0., 0., 0.,\n",
              "          0., 0., 0., 0., 0., 0., 0., 0., 0., 0., 0., 0., 0., 0., 0., 0., 0.,\n",
              "          0., 0., 0., 0., 0., 0., 0., 0., 0., 0., 0., 0., 0., 0., 0., 0., 0.,\n",
              "          0., 0., 0., 0., 0., 0., 0., 0., 0.], dtype=float32)},\n",
              "  'Dense_3': {'kernel': Array([[-8.0945604e-02, -6.6726342e-02,  2.0782525e-02, ...,\n",
              "           -2.4973067e-02, -8.4619828e-02, -4.1634303e-02],\n",
              "          [-1.6871536e-02,  1.1771874e-01,  1.3130784e-02, ...,\n",
              "           -2.4402274e-02, -7.8124471e-02,  9.8651834e-02],\n",
              "          [-6.4192958e-02,  4.1730314e-02,  2.4863241e-02, ...,\n",
              "            1.4928900e-01, -1.5950926e-01,  1.6819777e-01],\n",
              "          ...,\n",
              "          [ 1.4579965e-01, -3.4199920e-02,  5.4915328e-02, ...,\n",
              "           -1.4222902e-01, -1.3370159e-02,  1.1804680e-01],\n",
              "          [-1.5315361e-01, -5.6326944e-02,  1.3201346e-02, ...,\n",
              "           -4.1302629e-02, -4.1127771e-02, -2.0638870e-02],\n",
              "          [-1.6049486e-04, -1.9383946e-01,  6.0786858e-02, ...,\n",
              "           -2.5799405e-02, -1.2332481e-01, -5.7866875e-02]], dtype=float32),\n",
              "   'bias': Array([0., 0., 0., 0., 0., 0., 0., 0., 0., 0.], dtype=float32)}}}"
            ]
          },
          "metadata": {},
          "execution_count": 24
        }
      ]
    },
    {
      "cell_type": "code",
      "source": [
        "# Let's now see how the neural network output looks like:\n",
        "# the way models are called are through the apply function, that takes the parameters as an argument, and the inputs to the neural network. In this case, our images\n",
        "y = model.apply(params, x_batch)"
      ],
      "metadata": {
        "id": "nosJvcYjX1Sk"
      },
      "execution_count": null,
      "outputs": []
    },
    {
      "cell_type": "code",
      "source": [
        "\n",
        "# TODO: check the shape of the output, what were you expecting? (64, 10)\n",
        "y.shape\n",
        "\n",
        "expected_ouptut_shape = (64, 10)\n",
        "assert y.shape == expected_ouptut_shape"
      ],
      "metadata": {
        "id": "N4MRC3H0X4Vx"
      },
      "execution_count": null,
      "outputs": []
    },
    {
      "cell_type": "code",
      "source": [
        "# You can have a look at the shape of the parameters of the first layer in the neural network, the Dense_0 layer\n",
        "params['params']['Dense_0']['kernel'].shape"
      ],
      "metadata": {
        "colab": {
          "base_uri": "https://localhost:8080/"
        },
        "id": "kJQiJwzQYDjI",
        "outputId": "dd21df27-40df-4b86-bf5c-3984d8eefe19"
      },
      "execution_count": null,
      "outputs": [
        {
          "output_type": "execute_result",
          "data": {
            "text/plain": [
              "(784, 512)"
            ]
          },
          "metadata": {},
          "execution_count": 27
        }
      ]
    },
    {
      "cell_type": "code",
      "source": [
        "# let's look at the histograms of some of parameter values, that will show us how they were initialized\n",
        "# so it looks like the biases were initialized to 0, but not the kernels , that seem to be Gaussian distributed\n",
        "plt.hist(params['params']['Dense_0']['kernel'][0], bins=20, alpha=0.5,)\n",
        "plt.hist(params['params']['Dense_0']['kernel'][10], bins=20, alpha=0.5,)\n",
        "plt.hist(params['params']['Dense_0']['bias'], bins=20, alpha=0.5,)"
      ],
      "metadata": {
        "colab": {
          "base_uri": "https://localhost:8080/",
          "height": 569
        },
        "id": "qbFh2EtSYFg1",
        "outputId": "af26b7bc-474d-4ca6-f238-e408c8ffcbe8"
      },
      "execution_count": null,
      "outputs": [
        {
          "output_type": "execute_result",
          "data": {
            "text/plain": [
              "(array([  0.,   0.,   0.,   0.,   0.,   0.,   0.,   0.,   0.,   0., 512.,\n",
              "          0.,   0.,   0.,   0.,   0.,   0.,   0.,   0.,   0.]),\n",
              " array([-0.5       , -0.44999999, -0.40000001, -0.34999999, -0.30000001,\n",
              "        -0.25      , -0.2       , -0.15000001, -0.1       , -0.05      ,\n",
              "         0.        ,  0.05      ,  0.1       ,  0.15000001,  0.2       ,\n",
              "         0.25      ,  0.30000001,  0.34999999,  0.40000001,  0.44999999,\n",
              "         0.5       ]),\n",
              " <BarContainer object of 20 artists>)"
            ]
          },
          "metadata": {},
          "execution_count": 28
        },
        {
          "output_type": "display_data",
          "data": {
            "text/plain": [
              "<Figure size 640x480 with 1 Axes>"
            ],
            "image/png": "[encoded data removed]"
          },
          "metadata": {}
        }
      ]
    },
    {
      "cell_type": "code",
      "source": [
        "def log_softmax(logits):\n",
        "    # First because we are going to exponentiate the logits, we need to make sure they are not too large,\n",
        "    # to avoid numerical instability in exp of a large number.\n",
        "    # Note that shifting the logits by a constant does not change the softmax probabilities\n",
        "    shifted_logits = logits - jnp.max(logits, axis=-1, keepdims=True)\n",
        "    # Now you can compute the log softmax using the shifted logits for the todo\n",
        "    log_softmax_value = shifted_logits - jnp.log(jnp.sum(jnp.exp(shifted_logits), axis=-1, keepdims=True))\n",
        "    return log_softmax_value\n",
        "\n",
        "# Define the cross_entropy_loss function\n",
        "def cross_entropy_loss(logits, labels, num_classes=10):\n",
        "    log_probabilities = log_softmax(logits)\n",
        "    # one_hot will give us y_i (which is an array of zeros with a 1 at the index of the true label)\n",
        "    one_hot = jax.nn.one_hot(labels, num_classes=num_classes)\n",
        "    return -jnp.mean(jnp.sum(one_hot * log_probabilities, axis=-1))\n",
        "\n",
        "# Dummy labels for testing\n",
        "labels = jnp.arange(64) % 10\n",
        "\n",
        "# Calculate the cross-entropy loss\n",
        "loss = cross_entropy_loss(y, labels)\n",
        "print(\"Cross-Entropy Loss:\", loss)"
      ],
      "metadata": {
        "colab": {
          "base_uri": "https://localhost:8080/"
        },
        "id": "e0U_pc1AYKM3",
        "outputId": "b56836ec-119c-440a-f4c8-316e5eb0aee1"
      },
      "execution_count": null,
      "outputs": [
        {
          "output_type": "stream",
          "name": "stdout",
          "text": [
            "Cross-Entropy Loss: 2.3724601\n"
          ]
        }
      ]
    },
    {
      "cell_type": "code",
      "source": [
        "\n",
        "# TODO: Check that the loss works as expected:\n",
        "\n",
        "assert cross_entropy_loss(jnp.array([1000., 0.,]), jnp.array(0.), num_classes=2,) == 0.\n",
        "assert cross_entropy_loss(jnp.array([0., 1000.,]), jnp.array(0.), num_classes=2,) > 0.\n",
        "\n",
        "print(\"All tests passed!\")"
      ],
      "metadata": {
        "colab": {
          "base_uri": "https://localhost:8080/"
        },
        "id": "fNFx2_xRehAu",
        "outputId": "925db5b5-4585-4447-d66f-1b6dd6af86f5"
      },
      "execution_count": null,
      "outputs": [
        {
          "output_type": "stream",
          "name": "stdout",
          "text": [
            "All tests passed!\n"
          ]
        }
      ]
    },
    {
      "cell_type": "code",
      "source": [
        "import optax\n",
        "\n",
        "learning_rate = 1.e-3\n",
        "optimizer = optax.adam(learning_rate)\n",
        "opt_state = optimizer.init(params)"
      ],
      "metadata": {
        "id": "khnj5sNZem2L"
      },
      "execution_count": null,
      "outputs": []
    },
    {
      "cell_type": "code",
      "source": [
        "# The training step:\n",
        "# computes the loss function for one batch of examples, and uses its gradients to update the parameters\n",
        "\n",
        "@jax.jit\n",
        "def train_step(params, opt_state, batch):\n",
        "    images, labels = batch\n",
        "    def loss_fn(params):\n",
        "        logits = model.apply(params, images)\n",
        "        loss = cross_entropy_loss(logits, labels)\n",
        "        return loss\n",
        "    loss, grads = jax.value_and_grad(loss_fn)(params)\n",
        "    updates, opt_state = optimizer.update(grads, opt_state)\n",
        "    params = optax.apply_updates(params, updates)\n",
        "    return params, opt_state, loss\n",
        "\n"
      ],
      "metadata": {
        "id": "_UH1nUDffA2a"
      },
      "execution_count": null,
      "outputs": []
    },
    {
      "cell_type": "code",
      "source": [
        "from tqdm import tqdm\n",
        "\n",
        "# Now we will train the model for many steps, in each step we update the parameters with the gradients of the loss function\n",
        "num_steps = 1_000\n",
        "\n",
        "\n",
        "train_loss = []\n",
        "\n",
        "with tqdm(total=num_steps, desc='Training', unit='step') as pbar:\n",
        "    for step in range(num_steps):\n",
        "        try:\n",
        "            images, labels = next(train_loader)\n",
        "        except StopIteration:\n",
        "            # Once the dataset is empty, we will reinitialize the data loader to keep training\n",
        "            train_loader = iter(train_dataloader)\n",
        "            images, labels = next(train_loader)\n",
        "        images, labels = jnp.array(images), jnp.array(labels)\n",
        "\n",
        "        params, opt_state, loss = train_step(params, opt_state, (images, labels))\n",
        "        train_loss.append(loss)\n",
        "        pbar.set_postfix(loss=loss)\n",
        "        pbar.update(1)"
      ],
      "metadata": {
        "colab": {
          "base_uri": "https://localhost:8080/"
        },
        "id": "46ccgHXefCCg",
        "outputId": "acd9decf-d72c-493c-9553-e620a8d6b15a"
      },
      "execution_count": null,
      "outputs": [
        {
          "output_type": "stream",
          "name": "stderr",
          "text": [
            "Training: 100%|██████████| 1000/1000 [00:38<00:00, 25.68step/s, loss=0.2225809]\n"
          ]
        }
      ]
    },
    {
      "cell_type": "code",
      "source": [
        "plt.plot(train_loss)"
      ],
      "metadata": {
        "colab": {
          "base_uri": "https://localhost:8080/",
          "height": 447
        },
        "id": "Rl2VoRfqfQTs",
        "outputId": "4c4e0924-424d-4654-9f53-42aff01391e0"
      },
      "execution_count": null,
      "outputs": [
        {
          "output_type": "execute_result",
          "data": {
            "text/plain": [
              "[<matplotlib.lines.Line2D at 0x7f78f0dc6cb0>]"
            ]
          },
          "metadata": {},
          "execution_count": 35
        },
        {
          "output_type": "display_data",
          "data": {
            "text/plain": [
              "<Figure size 640x480 with 1 Axes>"
            ],
            "image/png": "[encoded data removed]"
          },
          "metadata": {}
        }
      ]
    },
    {
      "cell_type": "code",
      "source": [
        "test_dataset = torchvision.datasets.MNIST(root='./data', train=False, download=True, transform=transform)\n",
        "test_loader = DataLoader(test_dataset, batch_size=100, shuffle=False)\n"
      ],
      "metadata": {
        "id": "LZZp4sRSgPrg"
      },
      "execution_count": null,
      "outputs": []
    },
    {
      "cell_type": "code",
      "source": [
        "# Final evaluation on the test set\n",
        "test_accuracy = 0\n",
        "num_batches = 0\n",
        "for batch in test_loader:\n",
        "    images, labels = batch\n",
        "    images, labels = jnp.array(images), jnp.array(labels)\n",
        "\n",
        "    # Get the model predictions by finding the class with the highest probability\n",
        "    logits = model.apply(params, images)\n",
        "    predictions = jnp.argmax(logits, axis=-1)\n",
        "    test_accuracy += jnp.mean(predictions == labels)\n",
        "    num_batches += 1\n",
        "\n",
        "test_accuracy /= num_batches\n",
        "print(f'Final Test Accuracy: {test_accuracy * 100:.2f}%')"
      ],
      "metadata": {
        "colab": {
          "base_uri": "https://localhost:8080/"
        },
        "id": "JcDkF3RpgQrD",
        "outputId": "ae44aa25-cbf0-44fb-941b-21d581bf9d95"
      },
      "execution_count": null,
      "outputs": [
        {
          "output_type": "stream",
          "name": "stdout",
          "text": [
            "Final Test Accuracy: 93.88%\n"
          ]
        }
      ]
    },
    {
      "cell_type": "code",
      "source": [
        "# let's look at the output probabilities for a few examples from the last batch computed on the previous cell\n",
        "\n",
        "# Define the softmax function to convert logits to probabilities\n",
        "def softmax(logits):\n",
        "    exp_logits = jnp.exp(logits - jnp.max(logits, axis=-1, keepdims=True))\n",
        "    return exp_logits / jnp.sum(exp_logits, axis=-1, keepdims=True)\n",
        "\n",
        "# Calculate the probabilities from the logits\n",
        "probabilities = softmax(logits)\n",
        "\n",
        "# Visualize the output probabilities for a few examples from the last batch\n",
        "fig, axs = plt.subplots(5, 2, figsize=(8, 10))\n",
        "\n",
        "for i in range(10):\n",
        "    img = images[i][:, :, 0]\n",
        "    label = labels[i]\n",
        "    prob = probabilities[i]\n",
        "    ax = axs[i // 2, i % 2]\n",
        "    ax.imshow(img, cmap='gray')\n",
        "    ax.axis('off')\n",
        "    ax.set_title(f'Label: {label}')\n",
        "\n",
        "    ax_prob = ax.inset_axes([1.1, 0.1, 0.8, 0.8])\n",
        "    ax_prob.bar(range(10), prob)\n",
        "    ax_prob.set_xticks(range(10))\n",
        "    ax_prob.set_ylim(0, 1)\n",
        "    ax_prob.set_title('Probabilities')\n",
        "\n",
        "\n",
        "\n",
        "#plt.tight_layout()\n",
        "\n",
        "plt.show()\n",
        "\n",
        "\n"
      ],
      "metadata": {
        "colab": {
          "base_uri": "https://localhost:8080/",
          "height": 839
        },
        "id": "y3FSmKnrgZ8G",
        "outputId": "0be052f3-daae-4dbe-e550-f1ba18860e1a"
      },
      "execution_count": null,
      "outputs": [
        {
          "output_type": "display_data",
          "data": {
            "text/plain": [
              "<Figure size 800x1000 with 10 Axes>"
            ],
            "image/png": "[encoded data removed]"
          },
          "metadata": {}
        }
      ]
    },
    {
      "cell_type": "code",
      "source": [],
      "metadata": {
        "id": "73M_t7cWhndw"
      },
      "execution_count": null,
      "outputs": []
    }
  ]
}